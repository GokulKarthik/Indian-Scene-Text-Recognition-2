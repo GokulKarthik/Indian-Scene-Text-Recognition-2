{
 "cells": [
  {
   "cell_type": "code",
   "execution_count": 12,
   "metadata": {},
   "outputs": [],
   "source": [
    "import os\n",
    "\n",
    "import matplotlib.pyplot as plt\n",
    "import pandas as pd\n",
    "from tqdm.auto import tqdm\n",
    "\n",
    "from utils import correct_prediction, levenshtein_distance"
   ]
  },
  {
   "cell_type": "code",
   "execution_count": 2,
   "metadata": {},
   "outputs": [],
   "source": [
    "val_dir = 'Data/attacks-val'\n",
    "test_dir = 'Data/attacks-test'\n",
    "\n",
    "language_dir = 'Tamil-V2'\n",
    "\n",
    "val_path = os.path.join(val_dir, language_dir)\n",
    "test_path = os.path.join(test_dir, language_dir)"
   ]
  },
  {
   "cell_type": "code",
   "execution_count": 8,
   "metadata": {},
   "outputs": [],
   "source": [
    "data_path = test_path"
   ]
  },
  {
   "cell_type": "code",
   "execution_count": 9,
   "metadata": {},
   "outputs": [
    {
     "data": {
      "application/vnd.jupyter.widget-view+json": {
       "model_id": "28679afd36294ef9b94a04d2927c9a49",
       "version_major": 2,
       "version_minor": 0
      },
      "text/plain": [
       "Models:   0%|          | 0/1 [00:00<?, ?it/s]"
      ]
     },
     "metadata": {},
     "output_type": "display_data"
    },
    {
     "data": {
      "application/vnd.jupyter.widget-view+json": {
       "model_id": "582e95ee5d3c4477ae7ba297c173ef8c",
       "version_major": 2,
       "version_minor": 0
      },
      "text/plain": [
       "Modes:   0%|          | 0/3 [00:00<?, ?it/s]"
      ]
     },
     "metadata": {},
     "output_type": "display_data"
    },
    {
     "data": {
      "application/vnd.jupyter.widget-view+json": {
       "model_id": "04ec1de711dc4dd0b407ebcc77a2177d",
       "version_major": 2,
       "version_minor": 0
      },
      "text/plain": [
       "Attacks:   0%|          | 0/6 [00:00<?, ?it/s]"
      ]
     },
     "metadata": {},
     "output_type": "display_data"
    },
    {
     "data": {
      "application/vnd.jupyter.widget-view+json": {
       "model_id": "be417b2d75604401b1e62b883e64e5df",
       "version_major": 2,
       "version_minor": 0
      },
      "text/plain": [
       "Attacks:   0%|          | 0/6 [00:00<?, ?it/s]"
      ]
     },
     "metadata": {},
     "output_type": "display_data"
    },
    {
     "data": {
      "application/vnd.jupyter.widget-view+json": {
       "model_id": "c93234a1e1a44561a0a69dd80114b703",
       "version_major": 2,
       "version_minor": 0
      },
      "text/plain": [
       "Attacks:   0%|          | 0/6 [00:00<?, ?it/s]"
      ]
     },
     "metadata": {},
     "output_type": "display_data"
    },
    {
     "name": "stdout",
     "output_type": "stream",
     "text": [
      "(39312, 8)\n"
     ]
    },
    {
     "data": {
      "text/html": [
       "<div>\n",
       "<style scoped>\n",
       "    .dataframe tbody tr th:only-of-type {\n",
       "        vertical-align: middle;\n",
       "    }\n",
       "\n",
       "    .dataframe tbody tr th {\n",
       "        vertical-align: top;\n",
       "    }\n",
       "\n",
       "    .dataframe thead th {\n",
       "        text-align: right;\n",
       "    }\n",
       "</style>\n",
       "<table border=\"1\" class=\"dataframe\">\n",
       "  <thead>\n",
       "    <tr style=\"text-align: right;\">\n",
       "      <th></th>\n",
       "      <th>model</th>\n",
       "      <th>mode</th>\n",
       "      <th>attack</th>\n",
       "      <th>image_fn</th>\n",
       "      <th>actual</th>\n",
       "      <th>prediction</th>\n",
       "      <th>prediction_corrected</th>\n",
       "      <th>edit_distance</th>\n",
       "    </tr>\n",
       "  </thead>\n",
       "  <tbody>\n",
       "    <tr>\n",
       "      <th>0</th>\n",
       "      <td>crnn-1</td>\n",
       "      <td>multi-label</td>\n",
       "      <td>Attack-0</td>\n",
       "      <td>ஃபயர்பக்_30_2705_0_க-------ர்-ள-ள்.png</td>\n",
       "      <td>ஃபயர்பக்</td>\n",
       "      <td>க-------ர்-ள-ள்</td>\n",
       "      <td>கர்ளள்</td>\n",
       "      <td>5</td>\n",
       "    </tr>\n",
       "    <tr>\n",
       "      <th>1</th>\n",
       "      <td>crnn-1</td>\n",
       "      <td>multi-label</td>\n",
       "      <td>Attack-0</td>\n",
       "      <td>ஃபயர்வால்_30_532_2_ஃ---பயயர்-வா--ல்.png</td>\n",
       "      <td>ஃபயர்வால்</td>\n",
       "      <td>ஃ---பயயர்-வா--ல்</td>\n",
       "      <td>ஃபயர்வால்</td>\n",
       "      <td>0</td>\n",
       "    </tr>\n",
       "    <tr>\n",
       "      <th>2</th>\n",
       "      <td>crnn-1</td>\n",
       "      <td>multi-label</td>\n",
       "      <td>Attack-0</td>\n",
       "      <td>ஃபிலிமனசு_30_3888_2_ஐ-----லி-ம-ன-ச்.png</td>\n",
       "      <td>ஃபிலிமனசு</td>\n",
       "      <td>ஐ-----லி-ம-ன-ச்</td>\n",
       "      <td>ஐலிமனச்</td>\n",
       "      <td>4</td>\n",
       "    </tr>\n",
       "    <tr>\n",
       "      <th>3</th>\n",
       "      <td>crnn-1</td>\n",
       "      <td>multi-label</td>\n",
       "      <td>Attack-0</td>\n",
       "      <td>அகச்_30_4528_0_அ------க----ச்.png</td>\n",
       "      <td>அகச்</td>\n",
       "      <td>அ------க----ச்</td>\n",
       "      <td>அகச்</td>\n",
       "      <td>0</td>\n",
       "    </tr>\n",
       "    <tr>\n",
       "      <th>4</th>\n",
       "      <td>crnn-1</td>\n",
       "      <td>multi-label</td>\n",
       "      <td>Attack-0</td>\n",
       "      <td>அகனள்_30_498_3_அ-----க--ன--ள்.png</td>\n",
       "      <td>அகனள்</td>\n",
       "      <td>அ-----க--ன--ள்</td>\n",
       "      <td>அகனள்</td>\n",
       "      <td>0</td>\n",
       "    </tr>\n",
       "  </tbody>\n",
       "</table>\n",
       "</div>"
      ],
      "text/plain": [
       "    model         mode    attack                                 image_fn  \\\n",
       "0  crnn-1  multi-label  Attack-0   ஃபயர்பக்_30_2705_0_க-------ர்-ள-ள்.png   \n",
       "1  crnn-1  multi-label  Attack-0  ஃபயர்வால்_30_532_2_ஃ---பயயர்-வா--ல்.png   \n",
       "2  crnn-1  multi-label  Attack-0  ஃபிலிமனசு_30_3888_2_ஐ-----லி-ம-ன-ச்.png   \n",
       "3  crnn-1  multi-label  Attack-0        அகச்_30_4528_0_அ------க----ச்.png   \n",
       "4  crnn-1  multi-label  Attack-0        அகனள்_30_498_3_அ-----க--ன--ள்.png   \n",
       "\n",
       "      actual        prediction prediction_corrected  edit_distance  \n",
       "0   ஃபயர்பக்   க-------ர்-ள-ள்               கர்ளள்              5  \n",
       "1  ஃபயர்வால்  ஃ---பயயர்-வா--ல்            ஃபயர்வால்              0  \n",
       "2  ஃபிலிமனசு   ஐ-----லி-ம-ன-ச்              ஐலிமனச்              4  \n",
       "3       அகச்    அ------க----ச்                 அகச்              0  \n",
       "4      அகனள்    அ-----க--ன--ள்                அகனள்              0  "
      ]
     },
     "execution_count": 9,
     "metadata": {},
     "output_type": "execute_result"
    }
   ],
   "source": [
    "result_df = pd.DataFrame()\n",
    "for model in tqdm(os.listdir(data_path), desc='Models'):\n",
    "    data_path_model = os.path.join(data_path, model)\n",
    "    for mode in tqdm(os.listdir(data_path_model), desc='Modes'):\n",
    "        data_path_model_mode = os.path.join(data_path_model, mode)\n",
    "        for attack in tqdm(os.listdir(data_path_model_mode), desc='Attacks'):\n",
    "            data_path_model_mode_attack = os.path.join(data_path_model_mode, attack)\n",
    "            image_fns = [fn for fn in os.listdir(data_path_model_mode_attack) if fn.endswith('.png')]\n",
    "            text_list = [fn.split('_')[0] for fn in image_fns]\n",
    "            text_prediction_list = [fn.split('_')[-1][:-4] for fn in image_fns]\n",
    "            attack_list = [attack] * len(text_list)\n",
    "            mode_list = [mode] * len(text_list)\n",
    "            model_list = [model] * len(text_list)\n",
    "            df = pd.DataFrame({\n",
    "                'model': model_list,\n",
    "                'mode': mode_list,\n",
    "                'attack': attack_list,\n",
    "                'image_fn': image_fns,\n",
    "                'actual': text_list,\n",
    "                'prediction': text_prediction_list,\n",
    "            })\n",
    "            result_df = result_df.append(df, ignore_index=True)\n",
    "\n",
    "result_df = result_df.sort_values(by=['model', 'mode', 'attack', 'image_fn']).reset_index(drop=True)\n",
    "result_df['prediction_corrected'] = result_df['prediction'].apply(correct_prediction)\n",
    "result_df['edit_distance'] = result_df.apply(levenshtein_distance, axis=1)\n",
    "print(result_df.shape)\n",
    "result_df.head()"
   ]
  },
  {
   "cell_type": "code",
   "execution_count": 18,
   "metadata": {},
   "outputs": [
    {
     "data": {
      "text/html": [
       "<div>\n",
       "<style scoped>\n",
       "    .dataframe tbody tr th:only-of-type {\n",
       "        vertical-align: middle;\n",
       "    }\n",
       "\n",
       "    .dataframe tbody tr th {\n",
       "        vertical-align: top;\n",
       "    }\n",
       "\n",
       "    .dataframe thead tr th {\n",
       "        text-align: left;\n",
       "    }\n",
       "</style>\n",
       "<table border=\"1\" class=\"dataframe\">\n",
       "  <thead>\n",
       "    <tr>\n",
       "      <th>mode</th>\n",
       "      <th colspan=\"6\" halign=\"left\">multi-label</th>\n",
       "      <th colspan=\"6\" halign=\"left\">original</th>\n",
       "      <th colspan=\"6\" halign=\"left\">unicode</th>\n",
       "    </tr>\n",
       "    <tr>\n",
       "      <th>attack</th>\n",
       "      <th>Attack-0</th>\n",
       "      <th>Attack-1</th>\n",
       "      <th>Attack-2</th>\n",
       "      <th>Attack-3</th>\n",
       "      <th>Attack-4</th>\n",
       "      <th>Attack-5</th>\n",
       "      <th>Attack-0</th>\n",
       "      <th>Attack-1</th>\n",
       "      <th>Attack-2</th>\n",
       "      <th>Attack-3</th>\n",
       "      <th>Attack-4</th>\n",
       "      <th>Attack-5</th>\n",
       "      <th>Attack-0</th>\n",
       "      <th>Attack-1</th>\n",
       "      <th>Attack-2</th>\n",
       "      <th>Attack-3</th>\n",
       "      <th>Attack-4</th>\n",
       "      <th>Attack-5</th>\n",
       "    </tr>\n",
       "  </thead>\n",
       "  <tbody>\n",
       "    <tr>\n",
       "      <th>accuracy-e0</th>\n",
       "      <td>0.858059</td>\n",
       "      <td>0.742674</td>\n",
       "      <td>0.655678</td>\n",
       "      <td>0.399725</td>\n",
       "      <td>0.311355</td>\n",
       "      <td>0.043498</td>\n",
       "      <td>0.841575</td>\n",
       "      <td>0.723443</td>\n",
       "      <td>0.631868</td>\n",
       "      <td>0.325092</td>\n",
       "      <td>0.213828</td>\n",
       "      <td>0.032967</td>\n",
       "      <td>0.874084</td>\n",
       "      <td>0.757784</td>\n",
       "      <td>0.662546</td>\n",
       "      <td>0.372711</td>\n",
       "      <td>0.244963</td>\n",
       "      <td>0.021978</td>\n",
       "    </tr>\n",
       "    <tr>\n",
       "      <th>accuracy-e1</th>\n",
       "      <td>0.913004</td>\n",
       "      <td>0.865385</td>\n",
       "      <td>0.836081</td>\n",
       "      <td>0.667582</td>\n",
       "      <td>0.577381</td>\n",
       "      <td>0.127289</td>\n",
       "      <td>0.906136</td>\n",
       "      <td>0.847070</td>\n",
       "      <td>0.808608</td>\n",
       "      <td>0.618132</td>\n",
       "      <td>0.509615</td>\n",
       "      <td>0.105769</td>\n",
       "      <td>0.951465</td>\n",
       "      <td>0.907967</td>\n",
       "      <td>0.866300</td>\n",
       "      <td>0.684066</td>\n",
       "      <td>0.547619</td>\n",
       "      <td>0.071886</td>\n",
       "    </tr>\n",
       "    <tr>\n",
       "      <th>accuracy-e2</th>\n",
       "      <td>0.970238</td>\n",
       "      <td>0.950092</td>\n",
       "      <td>0.935440</td>\n",
       "      <td>0.845238</td>\n",
       "      <td>0.780220</td>\n",
       "      <td>0.248168</td>\n",
       "      <td>0.967033</td>\n",
       "      <td>0.943681</td>\n",
       "      <td>0.929029</td>\n",
       "      <td>0.818681</td>\n",
       "      <td>0.737179</td>\n",
       "      <td>0.230769</td>\n",
       "      <td>0.972985</td>\n",
       "      <td>0.948260</td>\n",
       "      <td>0.935897</td>\n",
       "      <td>0.844780</td>\n",
       "      <td>0.764652</td>\n",
       "      <td>0.182692</td>\n",
       "    </tr>\n",
       "    <tr>\n",
       "      <th>accuracy-e3</th>\n",
       "      <td>0.988553</td>\n",
       "      <td>0.974359</td>\n",
       "      <td>0.965659</td>\n",
       "      <td>0.928114</td>\n",
       "      <td>0.891484</td>\n",
       "      <td>0.426740</td>\n",
       "      <td>0.984890</td>\n",
       "      <td>0.973443</td>\n",
       "      <td>0.969322</td>\n",
       "      <td>0.916209</td>\n",
       "      <td>0.878205</td>\n",
       "      <td>0.458791</td>\n",
       "      <td>0.986264</td>\n",
       "      <td>0.977106</td>\n",
       "      <td>0.972070</td>\n",
       "      <td>0.925366</td>\n",
       "      <td>0.883242</td>\n",
       "      <td>0.373168</td>\n",
       "    </tr>\n",
       "    <tr>\n",
       "      <th>accuracy-e4</th>\n",
       "      <td>0.995421</td>\n",
       "      <td>0.990842</td>\n",
       "      <td>0.984890</td>\n",
       "      <td>0.962454</td>\n",
       "      <td>0.949634</td>\n",
       "      <td>0.607601</td>\n",
       "      <td>0.991758</td>\n",
       "      <td>0.986264</td>\n",
       "      <td>0.980769</td>\n",
       "      <td>0.958791</td>\n",
       "      <td>0.939560</td>\n",
       "      <td>0.658883</td>\n",
       "      <td>0.992674</td>\n",
       "      <td>0.987637</td>\n",
       "      <td>0.983059</td>\n",
       "      <td>0.961081</td>\n",
       "      <td>0.941392</td>\n",
       "      <td>0.573718</td>\n",
       "    </tr>\n",
       "  </tbody>\n",
       "</table>\n",
       "</div>"
      ],
      "text/plain": [
       "mode        multi-label                                                    \\\n",
       "attack         Attack-0  Attack-1  Attack-2  Attack-3  Attack-4  Attack-5   \n",
       "accuracy-e0    0.858059  0.742674  0.655678  0.399725  0.311355  0.043498   \n",
       "accuracy-e1    0.913004  0.865385  0.836081  0.667582  0.577381  0.127289   \n",
       "accuracy-e2    0.970238  0.950092  0.935440  0.845238  0.780220  0.248168   \n",
       "accuracy-e3    0.988553  0.974359  0.965659  0.928114  0.891484  0.426740   \n",
       "accuracy-e4    0.995421  0.990842  0.984890  0.962454  0.949634  0.607601   \n",
       "\n",
       "mode         original                                                    \\\n",
       "attack       Attack-0  Attack-1  Attack-2  Attack-3  Attack-4  Attack-5   \n",
       "accuracy-e0  0.841575  0.723443  0.631868  0.325092  0.213828  0.032967   \n",
       "accuracy-e1  0.906136  0.847070  0.808608  0.618132  0.509615  0.105769   \n",
       "accuracy-e2  0.967033  0.943681  0.929029  0.818681  0.737179  0.230769   \n",
       "accuracy-e3  0.984890  0.973443  0.969322  0.916209  0.878205  0.458791   \n",
       "accuracy-e4  0.991758  0.986264  0.980769  0.958791  0.939560  0.658883   \n",
       "\n",
       "mode          unicode                                                    \n",
       "attack       Attack-0  Attack-1  Attack-2  Attack-3  Attack-4  Attack-5  \n",
       "accuracy-e0  0.874084  0.757784  0.662546  0.372711  0.244963  0.021978  \n",
       "accuracy-e1  0.951465  0.907967  0.866300  0.684066  0.547619  0.071886  \n",
       "accuracy-e2  0.972985  0.948260  0.935897  0.844780  0.764652  0.182692  \n",
       "accuracy-e3  0.986264  0.977106  0.972070  0.925366  0.883242  0.373168  \n",
       "accuracy-e4  0.992674  0.987637  0.983059  0.961081  0.941392  0.573718  "
      ]
     },
     "execution_count": 18,
     "metadata": {},
     "output_type": "execute_result"
    }
   ],
   "source": [
    "def compute_accuracy(df, max_edit_distance=0):\n",
    "    accuracy =  (df['edit_distance'] <= max_edit_distance).sum() / len(df)\n",
    "    return accuracy\n",
    "\n",
    "accuracy_df = pd.DataFrame(result_df.groupby(['mode', 'attack']).apply(compute_accuracy, max_edit_distance=0), columns=['accuracy-e0'])\n",
    "accuracy_df['accuracy-e1'] = pd.DataFrame(result_df.groupby(['mode', 'attack']).apply(compute_accuracy, max_edit_distance=1))\n",
    "accuracy_df['accuracy-e2'] = pd.DataFrame(result_df.groupby(['mode', 'attack']).apply(compute_accuracy, max_edit_distance=2))\n",
    "accuracy_df['accuracy-e3'] = pd.DataFrame(result_df.groupby(['mode', 'attack']).apply(compute_accuracy, max_edit_distance=3))\n",
    "accuracy_df['accuracy-e4'] = pd.DataFrame(result_df.groupby(['mode', 'attack']).apply(compute_accuracy, max_edit_distance=4))\n",
    "accuracy_df = accuracy_df.T\n",
    "accuracy_df"
   ]
  },
  {
   "cell_type": "code",
   "execution_count": 21,
   "metadata": {},
   "outputs": [
    {
     "data": {
      "text/plain": [
       "<AxesSubplot:>"
      ]
     },
     "execution_count": 21,
     "metadata": {},
     "output_type": "execute_result"
    },
    {
     "data": {
      "image/png": "[encoded data removed]",
      "text/plain": [
       "<Figure size 432x288 with 1 Axes>"
      ]
     },
     "metadata": {
      "needs_background": "light"
     },
     "output_type": "display_data"
    }
   ],
   "source": [
    "accuracy_df['multi-label'].plot()"
   ]
  },
  {
   "cell_type": "code",
   "execution_count": 22,
   "metadata": {},
   "outputs": [
    {
     "data": {
      "text/plain": [
       "<AxesSubplot:>"
      ]
     },
     "execution_count": 22,
     "metadata": {},
     "output_type": "execute_result"
    },
    {
     "data": {
      "image/png": "[encoded data removed]",
      "text/plain": [
       "<Figure size 432x288 with 1 Axes>"
      ]
     },
     "metadata": {
      "needs_background": "light"
     },
     "output_type": "display_data"
    }
   ],
   "source": [
    "accuracy_df['unicode'].plot()"
   ]
  },
  {
   "cell_type": "code",
   "execution_count": 26,
   "metadata": {},
   "outputs": [
    {
     "data": {
      "text/html": [
       "<div>\n",
       "<style scoped>\n",
       "    .dataframe tbody tr th:only-of-type {\n",
       "        vertical-align: middle;\n",
       "    }\n",
       "\n",
       "    .dataframe tbody tr th {\n",
       "        vertical-align: top;\n",
       "    }\n",
       "\n",
       "    .dataframe thead th {\n",
       "        text-align: right;\n",
       "    }\n",
       "</style>\n",
       "<table border=\"1\" class=\"dataframe\">\n",
       "  <thead>\n",
       "    <tr style=\"text-align: right;\">\n",
       "      <th></th>\n",
       "      <th></th>\n",
       "      <th>accuracy-e0</th>\n",
       "      <th>accuracy-e1</th>\n",
       "      <th>accuracy-e2</th>\n",
       "      <th>accuracy-e3</th>\n",
       "      <th>accuracy-e4</th>\n",
       "    </tr>\n",
       "    <tr>\n",
       "      <th>attack</th>\n",
       "      <th>mode</th>\n",
       "      <th></th>\n",
       "      <th></th>\n",
       "      <th></th>\n",
       "      <th></th>\n",
       "      <th></th>\n",
       "    </tr>\n",
       "  </thead>\n",
       "  <tbody>\n",
       "    <tr>\n",
       "      <th rowspan=\"3\" valign=\"top\">Attack-0</th>\n",
       "      <th>multi-label</th>\n",
       "      <td>0.858059</td>\n",
       "      <td>0.913004</td>\n",
       "      <td>0.970238</td>\n",
       "      <td>0.988553</td>\n",
       "      <td>0.995421</td>\n",
       "    </tr>\n",
       "    <tr>\n",
       "      <th>original</th>\n",
       "      <td>0.841575</td>\n",
       "      <td>0.906136</td>\n",
       "      <td>0.967033</td>\n",
       "      <td>0.984890</td>\n",
       "      <td>0.991758</td>\n",
       "    </tr>\n",
       "    <tr>\n",
       "      <th>unicode</th>\n",
       "      <td>0.874084</td>\n",
       "      <td>0.951465</td>\n",
       "      <td>0.972985</td>\n",
       "      <td>0.986264</td>\n",
       "      <td>0.992674</td>\n",
       "    </tr>\n",
       "    <tr>\n",
       "      <th rowspan=\"3\" valign=\"top\">Attack-1</th>\n",
       "      <th>multi-label</th>\n",
       "      <td>0.742674</td>\n",
       "      <td>0.865385</td>\n",
       "      <td>0.950092</td>\n",
       "      <td>0.974359</td>\n",
       "      <td>0.990842</td>\n",
       "    </tr>\n",
       "    <tr>\n",
       "      <th>original</th>\n",
       "      <td>0.723443</td>\n",
       "      <td>0.847070</td>\n",
       "      <td>0.943681</td>\n",
       "      <td>0.973443</td>\n",
       "      <td>0.986264</td>\n",
       "    </tr>\n",
       "    <tr>\n",
       "      <th>unicode</th>\n",
       "      <td>0.757784</td>\n",
       "      <td>0.907967</td>\n",
       "      <td>0.948260</td>\n",
       "      <td>0.977106</td>\n",
       "      <td>0.987637</td>\n",
       "    </tr>\n",
       "    <tr>\n",
       "      <th rowspan=\"3\" valign=\"top\">Attack-2</th>\n",
       "      <th>multi-label</th>\n",
       "      <td>0.655678</td>\n",
       "      <td>0.836081</td>\n",
       "      <td>0.935440</td>\n",
       "      <td>0.965659</td>\n",
       "      <td>0.984890</td>\n",
       "    </tr>\n",
       "    <tr>\n",
       "      <th>original</th>\n",
       "      <td>0.631868</td>\n",
       "      <td>0.808608</td>\n",
       "      <td>0.929029</td>\n",
       "      <td>0.969322</td>\n",
       "      <td>0.980769</td>\n",
       "    </tr>\n",
       "    <tr>\n",
       "      <th>unicode</th>\n",
       "      <td>0.662546</td>\n",
       "      <td>0.866300</td>\n",
       "      <td>0.935897</td>\n",
       "      <td>0.972070</td>\n",
       "      <td>0.983059</td>\n",
       "    </tr>\n",
       "    <tr>\n",
       "      <th rowspan=\"3\" valign=\"top\">Attack-3</th>\n",
       "      <th>multi-label</th>\n",
       "      <td>0.399725</td>\n",
       "      <td>0.667582</td>\n",
       "      <td>0.845238</td>\n",
       "      <td>0.928114</td>\n",
       "      <td>0.962454</td>\n",
       "    </tr>\n",
       "    <tr>\n",
       "      <th>original</th>\n",
       "      <td>0.325092</td>\n",
       "      <td>0.618132</td>\n",
       "      <td>0.818681</td>\n",
       "      <td>0.916209</td>\n",
       "      <td>0.958791</td>\n",
       "    </tr>\n",
       "    <tr>\n",
       "      <th>unicode</th>\n",
       "      <td>0.372711</td>\n",
       "      <td>0.684066</td>\n",
       "      <td>0.844780</td>\n",
       "      <td>0.925366</td>\n",
       "      <td>0.961081</td>\n",
       "    </tr>\n",
       "    <tr>\n",
       "      <th rowspan=\"3\" valign=\"top\">Attack-4</th>\n",
       "      <th>multi-label</th>\n",
       "      <td>0.311355</td>\n",
       "      <td>0.577381</td>\n",
       "      <td>0.780220</td>\n",
       "      <td>0.891484</td>\n",
       "      <td>0.949634</td>\n",
       "    </tr>\n",
       "    <tr>\n",
       "      <th>original</th>\n",
       "      <td>0.213828</td>\n",
       "      <td>0.509615</td>\n",
       "      <td>0.737179</td>\n",
       "      <td>0.878205</td>\n",
       "      <td>0.939560</td>\n",
       "    </tr>\n",
       "    <tr>\n",
       "      <th>unicode</th>\n",
       "      <td>0.244963</td>\n",
       "      <td>0.547619</td>\n",
       "      <td>0.764652</td>\n",
       "      <td>0.883242</td>\n",
       "      <td>0.941392</td>\n",
       "    </tr>\n",
       "    <tr>\n",
       "      <th rowspan=\"3\" valign=\"top\">Attack-5</th>\n",
       "      <th>multi-label</th>\n",
       "      <td>0.043498</td>\n",
       "      <td>0.127289</td>\n",
       "      <td>0.248168</td>\n",
       "      <td>0.426740</td>\n",
       "      <td>0.607601</td>\n",
       "    </tr>\n",
       "    <tr>\n",
       "      <th>original</th>\n",
       "      <td>0.032967</td>\n",
       "      <td>0.105769</td>\n",
       "      <td>0.230769</td>\n",
       "      <td>0.458791</td>\n",
       "      <td>0.658883</td>\n",
       "    </tr>\n",
       "    <tr>\n",
       "      <th>unicode</th>\n",
       "      <td>0.021978</td>\n",
       "      <td>0.071886</td>\n",
       "      <td>0.182692</td>\n",
       "      <td>0.373168</td>\n",
       "      <td>0.573718</td>\n",
       "    </tr>\n",
       "  </tbody>\n",
       "</table>\n",
       "</div>"
      ],
      "text/plain": [
       "                      accuracy-e0  accuracy-e1  accuracy-e2  accuracy-e3  \\\n",
       "attack   mode                                                              \n",
       "Attack-0 multi-label     0.858059     0.913004     0.970238     0.988553   \n",
       "         original        0.841575     0.906136     0.967033     0.984890   \n",
       "         unicode         0.874084     0.951465     0.972985     0.986264   \n",
       "Attack-1 multi-label     0.742674     0.865385     0.950092     0.974359   \n",
       "         original        0.723443     0.847070     0.943681     0.973443   \n",
       "         unicode         0.757784     0.907967     0.948260     0.977106   \n",
       "Attack-2 multi-label     0.655678     0.836081     0.935440     0.965659   \n",
       "         original        0.631868     0.808608     0.929029     0.969322   \n",
       "         unicode         0.662546     0.866300     0.935897     0.972070   \n",
       "Attack-3 multi-label     0.399725     0.667582     0.845238     0.928114   \n",
       "         original        0.325092     0.618132     0.818681     0.916209   \n",
       "         unicode         0.372711     0.684066     0.844780     0.925366   \n",
       "Attack-4 multi-label     0.311355     0.577381     0.780220     0.891484   \n",
       "         original        0.213828     0.509615     0.737179     0.878205   \n",
       "         unicode         0.244963     0.547619     0.764652     0.883242   \n",
       "Attack-5 multi-label     0.043498     0.127289     0.248168     0.426740   \n",
       "         original        0.032967     0.105769     0.230769     0.458791   \n",
       "         unicode         0.021978     0.071886     0.182692     0.373168   \n",
       "\n",
       "                      accuracy-e4  \n",
       "attack   mode                      \n",
       "Attack-0 multi-label     0.995421  \n",
       "         original        0.991758  \n",
       "         unicode         0.992674  \n",
       "Attack-1 multi-label     0.990842  \n",
       "         original        0.986264  \n",
       "         unicode         0.987637  \n",
       "Attack-2 multi-label     0.984890  \n",
       "         original        0.980769  \n",
       "         unicode         0.983059  \n",
       "Attack-3 multi-label     0.962454  \n",
       "         original        0.958791  \n",
       "         unicode         0.961081  \n",
       "Attack-4 multi-label     0.949634  \n",
       "         original        0.939560  \n",
       "         unicode         0.941392  \n",
       "Attack-5 multi-label     0.607601  \n",
       "         original        0.658883  \n",
       "         unicode         0.573718  "
      ]
     },
     "execution_count": 26,
     "metadata": {},
     "output_type": "execute_result"
    }
   ],
   "source": [
    "accuracy_df_2 = accuracy_df.T.reorder_levels(['attack', 'mode']).sort_index()\n",
    "accuracy_df_2"
   ]
  },
  {
   "cell_type": "code",
   "execution_count": 28,
   "metadata": {},
   "outputs": [
    {
     "data": {
      "text/plain": [
       "<AxesSubplot:>"
      ]
     },
     "execution_count": 28,
     "metadata": {},
     "output_type": "execute_result"
    },
    {
     "data": {
      "image/png": "[encoded data removed]",
      "text/plain": [
       "<Figure size 432x288 with 1 Axes>"
      ]
     },
     "metadata": {
      "needs_background": "light"
     },
     "output_type": "display_data"
    }
   ],
   "source": [
    "accuracy_df_2.T['Attack-0'].plot()"
   ]
  },
  {
   "cell_type": "code",
   "execution_count": 29,
   "metadata": {},
   "outputs": [
    {
     "data": {
      "text/plain": [
       "<AxesSubplot:>"
      ]
     },
     "execution_count": 29,
     "metadata": {},
     "output_type": "execute_result"
    },
    {
     "data": {
      "image/png": "[encoded data removed]",
      "text/plain": [
       "<Figure size 432x288 with 1 Axes>"
      ]
     },
     "metadata": {
      "needs_background": "light"
     },
     "output_type": "display_data"
    }
   ],
   "source": [
    "accuracy_df_2.T['Attack-1'].plot()"
   ]
  },
  {
   "cell_type": "code",
   "execution_count": 32,
   "metadata": {},
   "outputs": [
    {
     "data": {
      "text/plain": [
       "<AxesSubplot:>"
      ]
     },
     "execution_count": 32,
     "metadata": {},
     "output_type": "execute_result"
    },
    {
     "data": {
      "image/png": "[encoded data removed]",
      "text/plain": [
       "<Figure size 432x288 with 1 Axes>"
      ]
     },
     "metadata": {
      "needs_background": "light"
     },
     "output_type": "display_data"
    }
   ],
   "source": [
    "accuracy_df_2.T['Attack-4'].plot()"
   ]
  },
  {
   "cell_type": "code",
   "execution_count": null,
   "metadata": {},
   "outputs": [],
   "source": []
  }
 ],
 "metadata": {
  "kernelspec": {
   "display_name": "Python 3",
   "language": "python",
   "name": "python3"
  },
  "language_info": {
   "codemirror_mode": {
    "name": "ipython",
    "version": 3
   },
   "file_extension": ".py",
   "mimetype": "text/x-python",
   "name": "python",
   "nbconvert_exporter": "python",
   "pygments_lexer": "ipython3",
   "version": "3.7.3"
  }
 },
 "nbformat": 4,
 "nbformat_minor": 2
}
